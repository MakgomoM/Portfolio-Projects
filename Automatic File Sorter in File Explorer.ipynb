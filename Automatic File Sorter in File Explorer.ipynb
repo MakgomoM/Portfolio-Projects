{
 "cells": [
  {
   "cell_type": "markdown",
   "id": "218f51b7",
   "metadata": {},
   "source": [
    "# Automatic File Sorter in File Explorer"
   ]
  },
  {
   "cell_type": "code",
   "execution_count": 31,
   "id": "331fdb8d",
   "metadata": {},
   "outputs": [],
   "source": [
    "import os,shutil"
   ]
  },
  {
   "cell_type": "code",
   "execution_count": 32,
   "id": "8790a83e",
   "metadata": {},
   "outputs": [],
   "source": [
    "path = r\"C:/Users/nrmog/Desktop/Python Project/\""
   ]
  },
  {
   "cell_type": "code",
   "execution_count": 33,
   "id": "87cc2e51",
   "metadata": {},
   "outputs": [],
   "source": [
    "file_name = os.listdir(path)\n",
    "print(file_name)"
   ]
  },
  {
   "cell_type": "code",
   "execution_count": 34,
   "id": "1e2f0560",
   "metadata": {},
   "outputs": [
    {
     "name": "stdout",
     "output_type": "stream",
     "text": [
      "This file type is not included\n",
      "This file type is not included\n",
      "This file type is not included\n"
     ]
    }
   ],
   "source": [
    "#Create the new folders\n",
    "folder_names = ['csv files', 'image files', 'text files']\n",
    "\n",
    "for loop in range(0,3):\n",
    "    if not os.path.exists(path + folder_names[loop]):\n",
    "        print(path + folder_names[loop])\n",
    "        os.makedirs(path + folder_names[loop])\n",
    "\n",
    "#Move the files into respective folders\n",
    "for file in file_name:\n",
    "    if \".csv\" in file and not os.path.exists(path + \"csv files/\" + file):\n",
    "        shutil.move(path + file,path + \"csv files/\" + file)\n",
    "    elif \".txt\" in file and not os.path.exists(path + \"text files/\" + file):\n",
    "        shutil.move(path + file,path + \"text files/\" + file)\n",
    "    elif \".jpg\" in file and not os.path.exists(path + \"image files/\" + file):\n",
    "        shutil.move(path + file,path + \"image files/\" + file)\n",
    "    else:\n",
    "        print('This file type is not included')"
   ]
  },
  {
   "cell_type": "code",
   "execution_count": null,
   "id": "2cedfa2e",
   "metadata": {},
   "outputs": [],
   "source": []
  }
 ],
 "metadata": {
  "kernelspec": {
   "display_name": "Python 3 (ipykernel)",
   "language": "python",
   "name": "python3"
  },
  "language_info": {
   "codemirror_mode": {
    "name": "ipython",
    "version": 3
   },
   "file_extension": ".py",
   "mimetype": "text/x-python",
   "name": "python",
   "nbconvert_exporter": "python",
   "pygments_lexer": "ipython3",
   "version": "3.10.9"
  }
 },
 "nbformat": 4,
 "nbformat_minor": 5
}
